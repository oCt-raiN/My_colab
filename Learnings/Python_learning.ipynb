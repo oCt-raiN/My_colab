{
  "nbformat": 4,
  "nbformat_minor": 0,
  "metadata": {
    "colab": {
      "provenance": [],
      "authorship_tag": "ABX9TyP8AbHnQr2dw4j4zUnWqJyc",
      "include_colab_link": true
    },
    "kernelspec": {
      "name": "python3",
      "display_name": "Python 3"
    },
    "language_info": {
      "name": "python"
    }
  },
  "cells": [
    {
      "cell_type": "markdown",
      "metadata": {
        "id": "view-in-github",
        "colab_type": "text"
      },
      "source": [
        "<a href=\"https://colab.research.google.com/github/oCt-raiN/My_colab/blob/main/Learnings/Python_learning.ipynb\" target=\"_parent\"><img src=\"https://colab.research.google.com/assets/colab-badge.svg\" alt=\"Open In Colab\"/></a>"
      ]
    },
    {
      "cell_type": "markdown",
      "source": [
        "***Use full links***\n",
        "\n",
        "---\n",
        "\n",
        "\n",
        "\n",
        "> https://www.geeksforgeeks.org/powerful-one-liner-python-codes/  \n",
        "all one liners and easy logics usefull\n",
        "\n",
        "\n",
        "```\n",
        "\n",
        "```\n",
        "\n"
      ],
      "metadata": {
        "id": "3iXdSkTlqJcR"
      }
    },
    {
      "cell_type": "code",
      "source": [
        "#remainder\n",
        "v = 23\n",
        "c = 3\n",
        "print(\"Quatient of {}\".format(v//c))\n",
        "print(\"Remainder of {}\".format(v%c))\n",
        "print(\"Power of {}\".format(v**c))"
      ],
      "metadata": {
        "colab": {
          "base_uri": "https://localhost:8080/"
        },
        "id": "VL-pdxF3oziG",
        "outputId": "06a52799-b921-4221-ac44-5be0c0c273f9"
      },
      "execution_count": 39,
      "outputs": [
        {
          "output_type": "stream",
          "name": "stdout",
          "text": [
            "Quatient of 7\n",
            "Remainder of 2\n",
            "Power of 12167\n"
          ]
        }
      ]
    },
    {
      "cell_type": "code",
      "execution_count": 3,
      "metadata": {
        "colab": {
          "base_uri": "https://localhost:8080/"
        },
        "id": "ubsWpncvmI75",
        "outputId": "d8dd3c8f-76f0-4318-9235-f9fb4db0685c"
      },
      "outputs": [
        {
          "name": "stdout",
          "output_type": "stream",
          "text": [
            "3 4 5 6 7\n"
          ]
        },
        {
          "output_type": "execute_result",
          "data": {
            "text/plain": [
              "[3, 4, 5, 6, 7]"
            ]
          },
          "metadata": {},
          "execution_count": 3
        }
      ],
      "source": [
        "lis = list(map(int, input().split()))\n",
        "lis"
      ]
    },
    {
      "cell_type": "code",
      "source": [
        "# Regulars\n",
        "\n",
        "evenNumbers =[]\n",
        "for x in range(11):\n",
        "\tif x % 2 == 0:\n",
        "\t\tevenNumbers.append(x)\n",
        "\n",
        "print(evenNumbers)\n",
        "\n",
        "\n",
        "# one liners\n",
        "evenNum = [x for x in range(11) if x % 2 ==0]\n",
        "print(evenNum)"
      ],
      "metadata": {
        "colab": {
          "base_uri": "https://localhost:8080/"
        },
        "id": "JmJ5l0djm3cF",
        "outputId": "1b514115-8a20-47bd-bedd-67f1b3faf78f"
      },
      "execution_count": 5,
      "outputs": [
        {
          "output_type": "stream",
          "name": "stdout",
          "text": [
            "[0, 2, 4, 6, 8, 10]\n",
            "[0, 2, 4, 6, 8, 10]\n"
          ]
        }
      ]
    },
    {
      "cell_type": "code",
      "source": [
        "# string\n",
        "ss = \"Aathi\"\n",
        "ss[::-1]"
      ],
      "metadata": {
        "colab": {
          "base_uri": "https://localhost:8080/",
          "height": 35
        },
        "id": "rQSJodPtneWv",
        "outputId": "ba4b2da2-1eb2-4457-a702-7bc8a5276353"
      },
      "execution_count": 9,
      "outputs": [
        {
          "output_type": "execute_result",
          "data": {
            "text/plain": [
              "'ihtaA'"
            ],
            "application/vnd.google.colaboratory.intrinsic+json": {
              "type": "string"
            }
          },
          "metadata": {},
          "execution_count": 9
        }
      ]
    },
    {
      "cell_type": "code",
      "source": [
        "#list\n",
        "a = [1,2,3,4,5,6]\n",
        "a[-3:-2:]"
      ],
      "metadata": {
        "colab": {
          "base_uri": "https://localhost:8080/"
        },
        "id": "E9_qwrRmnv2e",
        "outputId": "d027c273-d731-43db-810d-51af44d8e5a0"
      },
      "execution_count": 33,
      "outputs": [
        {
          "output_type": "execute_result",
          "data": {
            "text/plain": [
              "[4]"
            ]
          },
          "metadata": {},
          "execution_count": 33
        }
      ]
    },
    {
      "cell_type": "code",
      "source": [
        "import math as m\n",
        "\n",
        "n = 5\n",
        "\n",
        "print(\"factorial of {0} is = {1}\".format(n,m.factorial(n)))"
      ],
      "metadata": {
        "colab": {
          "base_uri": "https://localhost:8080/"
        },
        "id": "hhyaTjRhn6IZ",
        "outputId": "06153e6d-dd0a-43cf-cab8-08a9042ddfcc"
      },
      "execution_count": 42,
      "outputs": [
        {
          "output_type": "stream",
          "name": "stdout",
          "text": [
            "factorial of 5 is = 120\n"
          ]
        }
      ]
    },
    {
      "cell_type": "code",
      "source": [
        "from itertools import combinations\n",
        "\n",
        "\n",
        "# list of all subsets of\n",
        "l= [1, 2, 3, 4,5,6]\n",
        "# length r (r = 2 in this example)\n",
        "subset =0\n",
        "for i in range(1,len(l)+1):\n",
        "  print(list(combinations(l, i)))\n",
        "  subset += len(list(combinations(l, i)))\n",
        "print(\"No. of subsets from list is {}\".format(subset))"
      ],
      "metadata": {
        "colab": {
          "base_uri": "https://localhost:8080/"
        },
        "id": "hTYoh_lqp5B1",
        "outputId": "63b4b3d7-34eb-4074-b43a-bd106945eac2"
      },
      "execution_count": 53,
      "outputs": [
        {
          "output_type": "stream",
          "name": "stdout",
          "text": [
            "[(1,), (2,), (3,), (4,), (5,), (6,)]\n",
            "[(1, 2), (1, 3), (1, 4), (1, 5), (1, 6), (2, 3), (2, 4), (2, 5), (2, 6), (3, 4), (3, 5), (3, 6), (4, 5), (4, 6), (5, 6)]\n",
            "[(1, 2, 3), (1, 2, 4), (1, 2, 5), (1, 2, 6), (1, 3, 4), (1, 3, 5), (1, 3, 6), (1, 4, 5), (1, 4, 6), (1, 5, 6), (2, 3, 4), (2, 3, 5), (2, 3, 6), (2, 4, 5), (2, 4, 6), (2, 5, 6), (3, 4, 5), (3, 4, 6), (3, 5, 6), (4, 5, 6)]\n",
            "[(1, 2, 3, 4), (1, 2, 3, 5), (1, 2, 3, 6), (1, 2, 4, 5), (1, 2, 4, 6), (1, 2, 5, 6), (1, 3, 4, 5), (1, 3, 4, 6), (1, 3, 5, 6), (1, 4, 5, 6), (2, 3, 4, 5), (2, 3, 4, 6), (2, 3, 5, 6), (2, 4, 5, 6), (3, 4, 5, 6)]\n",
            "[(1, 2, 3, 4, 5), (1, 2, 3, 4, 6), (1, 2, 3, 5, 6), (1, 2, 4, 5, 6), (1, 3, 4, 5, 6), (2, 3, 4, 5, 6)]\n",
            "[(1, 2, 3, 4, 5, 6)]\n",
            "No. of subsets from list is 63\n"
          ]
        }
      ]
    },
    {
      "cell_type": "code",
      "source": [
        "from itertools import combinations\n",
        "\n",
        "\n",
        "# list of all subsets of\n",
        "l= [1, 2, 3, 4,5,6]\n",
        "# length r (r = 2 in this example)\n",
        "subset =0\n",
        "for i in range(1,len(l)+1):\n",
        "  print(list(combinations(l, i)))\n",
        "  subset += len(list(combinations(l, i)))\n",
        "\n",
        "print(\"No. of subsets from list is {}\".format(subset))"
      ],
      "metadata": {
        "id": "c8UFsj3Hq-yp"
      },
      "execution_count": null,
      "outputs": []
    },
    {
      "cell_type": "code",
      "source": [
        "time = 20\n",
        "print(\"Yes\") if time<18  else print(\"No\")"
      ],
      "metadata": {
        "colab": {
          "base_uri": "https://localhost:8080/"
        },
        "id": "3zA4SYcys8ud",
        "outputId": "ebdadc4f-5a59-4fa3-f578-02ddaa40918a"
      },
      "execution_count": 59,
      "outputs": [
        {
          "output_type": "stream",
          "name": "stdout",
          "text": [
            "No\n"
          ]
        }
      ]
    },
    {
      "cell_type": "code",
      "source": [
        "# ASCII\n",
        "ord(\"A\")"
      ],
      "metadata": {
        "colab": {
          "base_uri": "https://localhost:8080/"
        },
        "id": "bnbg0SfO0Uoh",
        "outputId": "2c32c680-a58a-4222-cea9-e3ca713fa66d"
      },
      "execution_count": 63,
      "outputs": [
        {
          "output_type": "execute_result",
          "data": {
            "text/plain": [
              "65"
            ]
          },
          "metadata": {},
          "execution_count": 63
        }
      ]
    },
    {
      "cell_type": "code",
      "source": [
        "# binnary value\n",
        "a = 12\n",
        "\n",
        "# Base 2(binary)\n",
        "bin_a = bin(a)\n",
        "print(bin_a)\n",
        "print(int(bin_a, 2))"
      ],
      "metadata": {
        "colab": {
          "base_uri": "https://localhost:8080/"
        },
        "id": "6wn9EE602g4b",
        "outputId": "0c0aada6-efe7-437c-9a35-15bb376bdc42"
      },
      "execution_count": 66,
      "outputs": [
        {
          "output_type": "stream",
          "name": "stdout",
          "text": [
            "0b1100\n",
            "12\n"
          ]
        }
      ]
    },
    {
      "cell_type": "code",
      "source": [
        "\n",
        "\n",
        "# Python3 code to demonstrate working of\n",
        "# Converting String to binary\n",
        "# Using join() + ord() + format()\n",
        "\n",
        "# initializing string\n",
        "test_str = \"Aathi\"\n",
        "\n",
        "# printing original string\n",
        "print(\"The original string is : \" + str(test_str))\n",
        "\n",
        "# using join() + ord() + format()\n",
        "# Converting String to binary\n",
        "res = ''.join(format(ord(i), '08b') for i in test_str)\n",
        "\n",
        "# printing result\n",
        "print(\"The string after binary conversion : \" + str(res))"
      ],
      "metadata": {
        "colab": {
          "base_uri": "https://localhost:8080/"
        },
        "id": "UzbLvhQ13O9m",
        "outputId": "0be7726d-b765-46c8-883a-39cb9852ff73"
      },
      "execution_count": 68,
      "outputs": [
        {
          "output_type": "stream",
          "name": "stdout",
          "text": [
            "The original string is : Aathi\n",
            "The string after binary conversion : 0100000101100001011101000110100001101001\n"
          ]
        }
      ]
    }
  ]
}